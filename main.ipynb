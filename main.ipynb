{
 "cells": [
  {
   "cell_type": "code",
   "execution_count": 1,
   "metadata": {},
   "outputs": [],
   "source": [
    "import requests as req"
   ]
  },
  {
   "cell_type": "code",
   "execution_count": 2,
   "metadata": {},
   "outputs": [],
   "source": [
    "with req.get('http://bit.ly/ofac_sanctions_csv') as rq:\n",
    "    with open('my_csv.csv', 'wb') as file:\n",
    "        file.write(rq.content)"
   ]
  },
  {
   "cell_type": "code",
   "execution_count": 3,
   "metadata": {},
   "outputs": [
    {
     "name": "stdout",
     "output_type": "stream",
     "text": [
      "{'Connection': 'keep-alive', 'Content-Length': '16264', 'Cache-Control': 'max-age=300', 'Content-Security-Policy': \"default-src 'none'; style-src 'unsafe-inline'; sandbox\", 'Content-Type': 'text/plain; charset=utf-8', 'ETag': 'W/\"79dd16546aeeb89bd0c814d858f6bb976023bd1f0fc6074a154614c503a22a1a\"', 'Strict-Transport-Security': 'max-age=31536000', 'X-Content-Type-Options': 'nosniff', 'X-Frame-Options': 'deny', 'X-XSS-Protection': '1; mode=block', 'X-GitHub-Request-Id': 'EADD:F8184:14ABB0:156843:67535765', 'Content-Encoding': 'gzip', 'Accept-Ranges': 'bytes', 'Date': 'Fri, 06 Dec 2024 19:58:29 GMT', 'Via': '1.1 varnish', 'X-Served-By': 'cache-mxp6965-MXP', 'X-Cache': 'MISS', 'X-Cache-Hits': '0', 'X-Timer': 'S1733515110.568469,VS0,VE245', 'Vary': 'Authorization,Accept-Encoding,Origin', 'Access-Control-Allow-Origin': '*', 'Cross-Origin-Resource-Policy': 'cross-origin', 'X-Fastly-Request-ID': 'c5675088f53e934516ee0348609b6b51f9a1ce96', 'Expires': 'Fri, 06 Dec 2024 20:03:29 GMT', 'Source-Age': '0'}\n"
     ]
    }
   ],
   "source": [
    "with req.get('http://bit.ly/ofac_sanctions_csv') as rq:\n",
    "    #with open('my_csv.csv', 'wb') as file:\n",
    "        #file.write(rq.content)\n",
    "        print(rq.headers)"
   ]
  },
  {
   "cell_type": "code",
   "execution_count": 4,
   "metadata": {},
   "outputs": [
    {
     "name": "stdout",
     "output_type": "stream",
     "text": [
      "ascii\n"
     ]
    }
   ],
   "source": [
    "with req.get('http://bit.ly/ofac_sanctions_csv') as rq:\n",
    "    #with open('my_csv.csv', 'wb') as file:\n",
    "        #file.write(rq.content)\n",
    "        print(rq.apparent_encoding)"
   ]
  },
  {
   "cell_type": "code",
   "execution_count": 5,
   "metadata": {},
   "outputs": [
    {
     "name": "stdout",
     "output_type": "stream",
     "text": [
      "0:00:00.307678\n"
     ]
    }
   ],
   "source": [
    "with req.get('http://bit.ly/ofac_sanctions_csv') as rq:\n",
    "    #with open('my_csv.csv', 'wb') as file:\n",
    "        #file.write(rq.content)\n",
    "        print(rq.elapsed)"
   ]
  },
  {
   "cell_type": "code",
   "execution_count": 7,
   "metadata": {},
   "outputs": [
    {
     "name": "stdout",
     "output_type": "stream",
     "text": [
      "True\n"
     ]
    }
   ],
   "source": [
    "with req.get('http://bit.ly/ofac_sanctions_csv') as rq:\n",
    "    #with open('my_csv.csv', 'wb') as file:\n",
    "        #file.write(rq.content)\n",
    "        print(rq.ok)"
   ]
  },
  {
   "cell_type": "code",
   "execution_count": 6,
   "metadata": {},
   "outputs": [
    {
     "name": "stdout",
     "output_type": "stream",
     "text": [
      "https://raw.githubusercontent.com/GitEntity/pandas-tutorials/master/Datasets/ofac_sanctions_cons.csv\n"
     ]
    }
   ],
   "source": [
    "with req.get('http://bit.ly/ofac_sanctions_csv') as rq:\n",
    "    #with open('my_csv.csv', 'wb') as file:\n",
    "        #file.write(rq.content)\n",
    "        print(rq.url)"
   ]
  },
  {
   "cell_type": "code",
   "execution_count": 7,
   "metadata": {},
   "outputs": [],
   "source": [
    "with req.get('http://bit.ly/ofac_sanctions_csv', stream=True) as rq:\n",
    "    with open('my_csv_streamed.csv', 'wb') as file:\n",
    "        for line in rq.iter_lines(delimiter=b'\\\\n'):\n",
    "            file.write(line)"
   ]
  },
  {
   "cell_type": "code",
   "execution_count": null,
   "metadata": {},
   "outputs": [],
   "source": []
  }
 ],
 "metadata": {
  "kernelspec": {
   "display_name": "Python 3 (ipykernel)",
   "language": "python",
   "name": "python3"
  },
  "language_info": {
   "codemirror_mode": {
    "name": "ipython",
    "version": 3
   },
   "file_extension": ".py",
   "mimetype": "text/x-python",
   "name": "python",
   "nbconvert_exporter": "python",
   "pygments_lexer": "ipython3",
   "version": "3.8.19"
  }
 },
 "nbformat": 4,
 "nbformat_minor": 4
}
